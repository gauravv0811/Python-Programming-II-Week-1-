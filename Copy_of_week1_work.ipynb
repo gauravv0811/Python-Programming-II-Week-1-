{
  "cells": [
    {
      "cell_type": "markdown",
      "source": [
        "Section A"
      ],
      "metadata": {
        "id": "In9f2BYMMTeQ"
      }
    },
    {
      "cell_type": "markdown",
      "source": [
        "QUESTION 1"
      ],
      "metadata": {
        "id": "VyJFDJj97-IL"
      }
    },
    {
      "cell_type": "code",
      "source": [
        "#Question 1\n",
        "\n",
        "print(\"Hello Python\")\n"
      ],
      "metadata": {
        "id": "ns6OrhMrMWhF"
      },
      "execution_count": null,
      "outputs": []
    },
    {
      "cell_type": "markdown",
      "source": [
        "QUESTION 2"
      ],
      "metadata": {
        "id": "C0AIe9S_8DDI"
      }
    },
    {
      "cell_type": "code",
      "execution_count": null,
      "metadata": {
        "id": "HqhFuLoFhsoV"
      },
      "outputs": [],
      "source": [
        "#Question2\n",
        "a=int(input(\"Enter the 1st number=\"))\n",
        "b=int(input(\"Enter the 2nd number=\"))\n",
        "Add=a+b\n",
        "Div=a/b\n",
        "print(\"Addition of 1st and 2nd number\",Add)\n",
        "print(\"Division of 1st and 2nd number\",Div)\n"
      ]
    },
    {
      "cell_type": "markdown",
      "source": [
        "QUESTION 3"
      ],
      "metadata": {
        "id": "95sUvxpY8Fjh"
      }
    },
    {
      "cell_type": "code",
      "execution_count": null,
      "metadata": {
        "id": "f325U5X9ibqS"
      },
      "outputs": [],
      "source": [
        "#Question 3\n",
        "base=int(input(\"Enter the base value=\"))\n",
        "height=int(input(\"Enter the height value=\"))\n",
        "area=0.5*base*height\n",
        "print(\"Area of Triangle is \",area)"
      ]
    },
    {
      "cell_type": "markdown",
      "source": [
        "QUESTION 4"
      ],
      "metadata": {
        "id": "q1D31Zs88Ibv"
      }
    },
    {
      "cell_type": "code",
      "execution_count": null,
      "metadata": {
        "id": "d7l2Q24li4nR",
        "colab": {
          "base_uri": "https://localhost:8080/"
        },
        "outputId": "21c84d26-5da7-43b1-fd7a-d19c1488a6bc"
      },
      "outputs": [
        {
          "output_type": "stream",
          "name": "stdout",
          "text": [
            "Enter the X value:50\n",
            "Enter the Y value:20\n",
            "Value of x: 20\n",
            "Value of y: 50\n"
          ]
        }
      ],
      "source": [
        "#Question 4\n",
        "x = int(input(\"Enter the X value:\"))\n",
        "y = int(input(\"Enter the Y value:\"))\n",
        " \n",
        "temp = x\n",
        "x = y\n",
        "y = temp\n",
        " \n",
        "print(\"Value of x:\", x)\n",
        "print(\"Value of y:\", y)\n"
      ]
    },
    {
      "cell_type": "markdown",
      "source": [
        "QUESTION 5"
      ],
      "metadata": {
        "id": "MP800BWS8K6s"
      }
    },
    {
      "cell_type": "code",
      "execution_count": null,
      "metadata": {
        "colab": {
          "background_save": true,
          "base_uri": "https://localhost:8080/"
        },
        "id": "CUdawdpC9kfJ",
        "outputId": "f7a8c977-949b-435f-c2c3-113835e50807"
      },
      "outputs": [
        {
          "name": "stdout",
          "output_type": "stream",
          "text": [
            "\n"
          ]
        }
      ],
      "source": [
        "#Question No.5\n",
        "import random\n",
        "a=random.random()\n",
        "print(\"\")"
      ]
    },
    {
      "cell_type": "markdown",
      "source": [
        "#Section b"
      ],
      "metadata": {
        "id": "gR1zkq41yLi3"
      }
    },
    {
      "cell_type": "markdown",
      "source": [
        "QUESTION 1"
      ],
      "metadata": {
        "id": "OTwsToOY8OIZ"
      }
    },
    {
      "cell_type": "code",
      "source": [
        "#Question 1\n",
        "km=int(input(\"Enter the kilometer value:\"))\n",
        "miles=0.621*km\n",
        "print(km,\"Kilometers =\",miles,\"Miles\" )"
      ],
      "metadata": {
        "id": "3FqTf1sZrmBu"
      },
      "execution_count": null,
      "outputs": []
    },
    {
      "cell_type": "markdown",
      "source": [
        "QUESTION 2"
      ],
      "metadata": {
        "id": "9BQgPYWs8RIt"
      }
    },
    {
      "cell_type": "code",
      "source": [
        "#Question 2\n",
        "Celsius=int(input(\"Enter the Celsius Value:\"))\n",
        "Fahrenheit=(Celsius*1.8)+32\n",
        "print(Celsius,\"Celsius =\",Fahrenheit,\"Fahrenheit\")\n"
      ],
      "metadata": {
        "id": "kk6bxCwKs1kp"
      },
      "execution_count": null,
      "outputs": []
    },
    {
      "cell_type": "markdown",
      "source": [
        "QUESTION 3"
      ],
      "metadata": {
        "id": "T7yDptrv8S5G"
      }
    },
    {
      "cell_type": "code",
      "source": [
        "#Question 3\n",
        "import calendar\n",
        "yyyy=int(input(\"Enter the year (yyyy):\"))\n",
        "mm=int(input(\"Enter the month (mm): \"))\n",
        "print(calendar.month(yyyy, mm))"
      ],
      "metadata": {
        "id": "mRfF6PkeuKwn"
      },
      "execution_count": null,
      "outputs": []
    },
    {
      "cell_type": "markdown",
      "source": [
        "QUESTION 5"
      ],
      "metadata": {
        "id": "OUELIb2Z8VoK"
      }
    },
    {
      "cell_type": "code",
      "source": [
        "#Question 5\n",
        "\n",
        "x = int(input(\"Enter the X value:\"))\n",
        "y = int(input(\"Enter the Y value:\"))\n",
        "x,y=y,x\n",
        "print(\"X=\",x)\n",
        "print(\"Y=\",y)"
      ],
      "metadata": {
        "colab": {
          "base_uri": "https://localhost:8080/"
        },
        "id": "0F-aZJVPNwZW",
        "outputId": "2f7794b6-cf2c-4d47-8195-4cf629ad0b01"
      },
      "execution_count": null,
      "outputs": [
        {
          "output_type": "stream",
          "name": "stdout",
          "text": [
            "Enter the X value:50\n",
            "Enter the Y value:10\n",
            "X= 10\n",
            "Y= 50\n"
          ]
        }
      ]
    },
    {
      "cell_type": "markdown",
      "source": [
        "Section C"
      ],
      "metadata": {
        "id": "SCejbc4Lze2P"
      }
    },
    {
      "cell_type": "markdown",
      "source": [
        "QUESTION 1"
      ],
      "metadata": {
        "id": "TRE0bcLy8aUG"
      }
    },
    {
      "cell_type": "code",
      "source": [
        "#Question 1\n",
        "num=int(input(\"Enter the value:\"))\n",
        "if num>0:\n",
        "  print(\"Number is positive\")\n",
        "elif num<0:\n",
        "  print(\"Number is negative\")\n",
        "else:\n",
        " print(\"Number is zero\")  "
      ],
      "metadata": {
        "id": "oUvz8JJuzhzk"
      },
      "execution_count": null,
      "outputs": []
    },
    {
      "cell_type": "markdown",
      "source": [
        "QUESTION 2"
      ],
      "metadata": {
        "id": "ylDVBurD8b4o"
      }
    },
    {
      "cell_type": "code",
      "source": [
        "#Question 2\n",
        "num=int(input(\"Enter the value=\"))\n",
        "if num%2==0:\n",
        "  print(\"The number is Even\")\n",
        "else:\n",
        "  print(\"The number is Odd\")\n"
      ],
      "metadata": {
        "id": "GYKKtB_d0Myr"
      },
      "execution_count": null,
      "outputs": []
    },
    {
      "cell_type": "markdown",
      "source": [
        "QUESTION 3"
      ],
      "metadata": {
        "id": "6uUc68-D5-UB"
      }
    },
    {
      "cell_type": "code",
      "source": [
        "year = int(input(\"Enter the year: \"))\n",
        "if year % 4 == 0 and year % 100 != 0:\n",
        "    print(year, \"is a leap year.\")\n",
        "elif year % 400 == 0:\n",
        "    print(year, \"is a leap year.\")\n",
        "elif year % 100 == 0:\n",
        "    print(year, \"is not a leap year.\")\n",
        "else:\n",
        "    print(year, \"is not a leap year.\")"
      ],
      "metadata": {
        "id": "ddvjQ_m06Er6"
      },
      "execution_count": null,
      "outputs": []
    },
    {
      "cell_type": "markdown",
      "source": [
        "QUESTION 4"
      ],
      "metadata": {
        "id": "vjEiaMuW6HBt"
      }
    },
    {
      "cell_type": "code",
      "source": [
        "num = int(input(\"Enter a number: \"))\n",
        "\n",
        "if num > 1:\n",
        "   \n",
        "    for i in range(2, int(num/2)+1):\n",
        "        if (num % i) == 0:\n",
        "            print(num, \"is not a prime number\")\n",
        "            break\n",
        "    else:\n",
        "        print(num, \"is a prime number\")\n",
        "else:\n",
        "    print(num, \"is not a prime number\")"
      ],
      "metadata": {
        "id": "ivDGGmjJ6YPH"
      },
      "execution_count": null,
      "outputs": []
    },
    {
      "cell_type": "markdown",
      "source": [
        "QUESTION 5"
      ],
      "metadata": {
        "id": "qnBKhj0a6hjf"
      }
    },
    {
      "cell_type": "code",
      "source": [
        "lower_limit = 1\n",
        "upper_limit = 10000\n",
        "\n",
        "for num in range(lower_limit, upper_limit+ 1):\n",
        "   if num > 1:\n",
        "       for i in range(2, num):\n",
        "           if (num % i) == 0:\n",
        "               break\n",
        "       else:\n",
        "           print(num)"
      ],
      "metadata": {
        "id": "rdcPRtqu6J7J"
      },
      "execution_count": null,
      "outputs": []
    },
    {
      "cell_type": "markdown",
      "source": [
        ""
      ],
      "metadata": {
        "id": "gYWL_oxT6uHT"
      }
    },
    {
      "cell_type": "markdown",
      "source": [
        "Section D"
      ],
      "metadata": {
        "id": "SkUm4xAQ5z4_"
      }
    },
    {
      "cell_type": "markdown",
      "source": [
        "QUESTION 1"
      ],
      "metadata": {
        "id": "H-9J8HvS67Jo"
      }
    },
    {
      "cell_type": "code",
      "source": [
        "#Question 1\n",
        "num = int(input(\"Enter a number: \"))    \n",
        "factorial = 1    \n",
        "if num < 0:    \n",
        "   print(\" Factorial does not exist for negative numbers\")    \n",
        "elif num == 0:    \n",
        "   print(\"The factorial of 0 is 1\")    \n",
        "else:    \n",
        "   for i in range(1,num + 1):    \n",
        "       factorial = factorial*i    \n",
        "   print(\"The factorial of\",num,\"is\",factorial)    "
      ],
      "metadata": {
        "id": "ojhz5AD35ZY1",
        "colab": {
          "base_uri": "https://localhost:8080/"
        },
        "outputId": "c1e491c1-b5e2-4111-bd46-adf88b74cdd5"
      },
      "execution_count": null,
      "outputs": [
        {
          "output_type": "stream",
          "name": "stdout",
          "text": [
            "Enter a number: 10\n",
            "The factorial of 10 is 3628800\n"
          ]
        }
      ]
    },
    {
      "cell_type": "markdown",
      "source": [
        "QUESTION 2"
      ],
      "metadata": {
        "id": "SpHhZ2lF6_kB"
      }
    },
    {
      "cell_type": "code",
      "source": [
        "#Question 2\n",
        "num = int(input(\"Display multiplication table of? \"))\n",
        "for i in range(1, 11):\n",
        "   print(num, 'x', i, '=', num*i)"
      ],
      "metadata": {
        "id": "fFhVI9Ri55v6"
      },
      "execution_count": null,
      "outputs": []
    },
    {
      "cell_type": "markdown",
      "source": [
        "QUESTION 3"
      ],
      "metadata": {
        "id": "RrL-rkP37Cy5"
      }
    },
    {
      "cell_type": "code",
      "source": [
        "#Question 3\n",
        "nterm=int (input(\"Enter the terms to be printed:\"))\n",
        "n1=1\n",
        "count=0\n",
        "if nterm<=0:\n",
        "  print(\"Please enter a positive integer, the given number is not valid\")\n",
        "elif nterm==1:\n",
        "  print (\"The Fibonacci sequence of the number upto:\",nterm, \":\")\n",
        "  print (n1)\n",
        "else:\n",
        "    print (\"The Fibonacci sequence of the number is:\")\n",
        "while count <nterm:\n",
        "  print (n1)\n",
        "  nth=n1+n2\n",
        "  n1=n2\n",
        "  n2=nth \n",
        "  count +=1"
      ],
      "metadata": {
        "id": "guKHUvem6lzb"
      },
      "execution_count": null,
      "outputs": []
    },
    {
      "cell_type": "markdown",
      "source": [
        "QUESTION 4"
      ],
      "metadata": {
        "id": "CKcwmO6c7HrU"
      }
    },
    {
      "cell_type": "code",
      "source": [
        "num = int(input(\"Enter a number: \"))\n",
        "sum = 0 \n",
        "temp = num \n",
        "while temp > 0:\n",
        "  digit = temp%10\n",
        "  sum += digit**3\n",
        "  temp = temp//10\n",
        "\n",
        "if num == sum:\n",
        "   print(num,\"is an Armstrong number\")\n",
        "else:\n",
        "   print(num,\"is not an Armstrong number\")"
      ],
      "metadata": {
        "id": "WsO5lBZ97Kqq"
      },
      "execution_count": null,
      "outputs": []
    },
    {
      "cell_type": "markdown",
      "source": [
        "QUESTION 5"
      ],
      "metadata": {
        "id": "R2wJloVI7TKw"
      }
    },
    {
      "cell_type": "code",
      "source": [
        "lower  = int(input(\"enter the lower limit: \"))\n",
        "upper = int(input(\"enter the upper limit: \"))\n",
        "for i in range(lower, upper+1):\n",
        "  sum =0\n",
        "  num = i\n",
        "  while(i!=0):\n",
        "    digit=i%10\n",
        "    sum = sum + (digit**3)\n",
        "    i = i//10\n",
        "  if num == sum:\n",
        "    print(num)"
      ],
      "metadata": {
        "id": "dgSt8p7p7YM4"
      },
      "execution_count": null,
      "outputs": []
    },
    {
      "cell_type": "markdown",
      "source": [
        "QUESTION 6"
      ],
      "metadata": {
        "id": "qGa80vAf7dQP"
      }
    },
    {
      "cell_type": "code",
      "source": [
        "#question 6\n",
        "num=int(input(\"Enter the natural number:\"))\n",
        "if num < 0:\n",
        "   print(\"Enter a positive number\")\n",
        "else:\n",
        "   sum = 0\n",
        "   # use while loop to iterate until zero\n",
        "   while(num > 0):\n",
        "       sum += num\n",
        "       num -= 1\n",
        "   print(\"The sum is\", sum)"
      ],
      "metadata": {
        "id": "3JbxtRQhHKMn"
      },
      "execution_count": null,
      "outputs": []
    },
    {
      "cell_type": "markdown",
      "source": [
        "Section E"
      ],
      "metadata": {
        "id": "LjGqZwSn3dcb"
      }
    },
    {
      "cell_type": "markdown",
      "source": [
        "1. Write a Python Program to find sum of array?"
      ],
      "metadata": {
        "id": "EjKEOs3u39uv"
      }
    },
    {
      "cell_type": "code",
      "source": [
        "arr = [12, 3, 4, 15, 25]\n",
        "for i in arr:\n",
        "  sum += i\n",
        "print(sum)"
      ],
      "metadata": {
        "id": "LqOJa-cr3_oH"
      },
      "execution_count": null,
      "outputs": []
    },
    {
      "cell_type": "markdown",
      "source": [
        "Write a Python Program to find largest element in an array?"
      ],
      "metadata": {
        "id": "fpLZbPdD4V43"
      }
    },
    {
      "cell_type": "code",
      "source": [
        "arr = [12, 3, 4, 15, 25, 923]\n",
        "largest = 0\n",
        "for i in range(len(arr)):\n",
        "  if arr[i] > largest:\n",
        "    largest = arr[i]\n",
        "print(largest)"
      ],
      "metadata": {
        "id": "i_y9d-XW4jPu"
      },
      "execution_count": null,
      "outputs": []
    },
    {
      "cell_type": "markdown",
      "source": [
        "Section F"
      ],
      "metadata": {
        "id": "mNTmj6LXQEl7"
      }
    },
    {
      "cell_type": "markdown",
      "source": [
        ""
      ],
      "metadata": {
        "id": "HA9qR4WD3DLr"
      }
    },
    {
      "cell_type": "markdown",
      "source": [
        "QUESTION 1"
      ],
      "metadata": {
        "id": "j52pKPig9q_q"
      }
    },
    {
      "cell_type": "code",
      "source": [
        "#Quesion 1\n",
        "Numeric= [12, 8, 9, 2, 5]\n",
        "sum=sum(Numericlist)\n",
        "print(list)\n",
        "print(\"sum of list: \",sum)"
      ],
      "metadata": {
        "id": "o72m3vvyQN85"
      },
      "execution_count": null,
      "outputs": []
    },
    {
      "cell_type": "markdown",
      "source": [
        "QUESTION 2"
      ],
      "metadata": {
        "id": "5jHegJgF9s_m"
      }
    },
    {
      "cell_type": "code",
      "source": [
        "#Question3\n",
        "print(list)\n",
        "smallest=min(list)\n",
        "print(\"Smallest number in the list\",smallest)"
      ],
      "metadata": {
        "id": "jbwOBbeoVhoy"
      },
      "execution_count": null,
      "outputs": []
    },
    {
      "cell_type": "markdown",
      "source": [
        "QUESTION 3"
      ],
      "metadata": {
        "id": "8MR2az-S9uvD"
      }
    },
    {
      "cell_type": "markdown",
      "source": [
        "QUESTION 4"
      ],
      "metadata": {
        "id": "TvgvxUCh9xPf"
      }
    },
    {
      "cell_type": "code",
      "source": [
        "#Question 4\n",
        "print(list)\n",
        "largest=max(list)\n",
        "print(\"Largest number  in the list\",largest)"
      ],
      "metadata": {
        "id": "Bux-6hCwXFSK"
      },
      "execution_count": null,
      "outputs": []
    },
    {
      "cell_type": "markdown",
      "source": [
        "QUESTION 5"
      ],
      "metadata": {
        "id": "bT5eA8N89znA"
      }
    },
    {
      "cell_type": "code",
      "source": [
        "#Question5\n",
        " \n",
        "# print second maximum element using sorted() method\n",
        "print(\"Second largest element is:\", sorted(list)[-2])"
      ],
      "metadata": {
        "id": "cY3Kw7R1ZkP4"
      },
      "execution_count": null,
      "outputs": []
    },
    {
      "cell_type": "markdown",
      "source": [
        "QUESTION 7"
      ],
      "metadata": {
        "id": "SHZ2mGfz91YF"
      }
    },
    {
      "cell_type": "code",
      "source": [
        "#Question7\n",
        "print(list)\n",
        "for num in list:\n",
        "  if num%2==0:\n",
        "    print(num,end=\" \")"
      ],
      "metadata": {
        "id": "Yct-A9o3axPn"
      },
      "execution_count": null,
      "outputs": []
    },
    {
      "cell_type": "markdown",
      "source": [
        "QUESTION 8"
      ],
      "metadata": {
        "id": "zmKb8BIM93kX"
      }
    },
    {
      "cell_type": "code",
      "source": [
        "#Question8\n",
        "print(list)\n",
        "for num in list:\n",
        "  if num%2==1:\n",
        "    print(num,end=\" \")"
      ],
      "metadata": {
        "id": "6iJMGMcDbj9F"
      },
      "execution_count": null,
      "outputs": []
    },
    {
      "cell_type": "markdown",
      "source": [
        "QUESTION 9"
      ],
      "metadata": {
        "id": "P21NXWf295Og"
      }
    },
    {
      "cell_type": "code",
      "source": [
        "\n",
        "#Question9\n",
        "def cloning(List):\n",
        " list=[2,4,6,89,7]\n",
        "List=cloning(list)\n",
        "print(\"Before cloning\",list)\n",
        "print('After cloning',List)\n"
      ],
      "metadata": {
        "id": "LI1pAlf7cBoA"
      },
      "execution_count": null,
      "outputs": []
    }
  ],
  "metadata": {
    "colab": {
      "name": "Copy of week1_work.ipynb",
      "provenance": [],
      "collapsed_sections": []
    },
    "kernelspec": {
      "display_name": "Python 3",
      "name": "python3"
    },
    "language_info": {
      "name": "python"
    }
  },
  "nbformat": 4,
  "nbformat_minor": 0
}